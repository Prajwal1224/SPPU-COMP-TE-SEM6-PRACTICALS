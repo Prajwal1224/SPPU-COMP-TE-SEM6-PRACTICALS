{
 "cells": [
  {
   "cell_type": "code",
   "execution_count": null,
   "id": "58ea0327",
   "metadata": {},
   "outputs": [],
   "source": [
    "import nltk"
   ]
  },
  {
   "cell_type": "code",
   "execution_count": null,
   "id": "c4995ede",
   "metadata": {},
   "outputs": [],
   "source": [
    "from nltk.tokenize import word_tokenize\n",
    "w1 = word_tokenize(\"Between _them_ it was more the intimacy\\nof sister.\")\n",
    "nltk.download('stopwords')\n",
    "print(w1)"
   ]
  },
  {
   "cell_type": "code",
   "execution_count": null,
   "id": "2118f799",
   "metadata": {},
   "outputs": [],
   "source": [
    "nltk.download('punkt')"
   ]
  },
  {
   "cell_type": "code",
   "execution_count": null,
   "id": "41bcc7c8",
   "metadata": {},
   "outputs": [],
   "source": [
    "import nltk\n",
    "from nltk.tokenize import word_tokenize\n",
    "w1 = word_tokenize(\"Between _them_ it was more the intimacy\\nof sister.\")\n",
    "nltk.download('stopwords')\n",
    "print(w1)"
   ]
  },
  {
   "cell_type": "code",
   "execution_count": 7,
   "id": "9bbf462c",
   "metadata": {},
   "outputs": [],
   "source": [
    "def myToken(str):\n",
    "    ans = []\n",
    "    curr = \"\"\n",
    "    for i in range(len(str)):\n",
    "        if(str[i] == \" \"):\n",
    "            ans.append(curr)\n",
    "            curr = \"\"\n",
    "        else:\n",
    "            curr = curr + str[i]\n",
    "    ans.append(curr)\n",
    "    print(ans)"
   ]
  },
  {
   "cell_type": "code",
   "execution_count": 6,
   "id": "a925391e",
   "metadata": {},
   "outputs": [
    {
     "ename": "SyntaxError",
     "evalue": "invalid syntax (2237507655.py, line 1)",
     "output_type": "error",
     "traceback": [
      "\u001b[1;36m  File \u001b[1;32m\"C:\\Users\\Public\\Documents\\iSkysoft\\CreatorTemp\\ipykernel_14184\\2237507655.py\"\u001b[1;36m, line \u001b[1;32m1\u001b[0m\n\u001b[1;33m    form nltk.tokenize import word_tokenize, sent_tokenize\u001b[0m\n\u001b[1;37m         ^\u001b[0m\n\u001b[1;31mSyntaxError\u001b[0m\u001b[1;31m:\u001b[0m invalid syntax\n"
     ]
    }
   ],
   "source": [
    "form nltk.tokenize import word_tokenize, sent_tokenize\n",
    "from nltk.corpus import gutenberg"
   ]
  },
  {
   "cell_type": "code",
   "execution_count": 8,
   "id": "4a0a4fec",
   "metadata": {
    "scrolled": true
   },
   "outputs": [
    {
     "name": "stderr",
     "output_type": "stream",
     "text": [
      "[nltk_data] Downloading package gutenberg to\n",
      "[nltk_data]     C:\\Users\\ADMIN\\AppData\\Roaming\\nltk_data...\n",
      "[nltk_data]   Package gutenberg is already up-to-date!\n"
     ]
    },
    {
     "data": {
      "text/plain": [
       "True"
      ]
     },
     "execution_count": 8,
     "metadata": {},
     "output_type": "execute_result"
    }
   ],
   "source": [
    "nltk.download('gutenberg')"
   ]
  },
  {
   "cell_type": "code",
   "execution_count": 9,
   "id": "46900556",
   "metadata": {},
   "outputs": [],
   "source": [
    "from nltk.tokenize import word_tokenize, sent_tokenize\n",
    "from nltk.corpus import gutenberg"
   ]
  },
  {
   "cell_type": "code",
   "execution_count": 10,
   "id": "26f45054",
   "metadata": {},
   "outputs": [
    {
     "data": {
      "text/plain": [
       "['austen-emma.txt',\n",
       " 'austen-persuasion.txt',\n",
       " 'austen-sense.txt',\n",
       " 'bible-kjv.txt',\n",
       " 'blake-poems.txt',\n",
       " 'bryant-stories.txt',\n",
       " 'burgess-busterbrown.txt',\n",
       " 'carroll-alice.txt',\n",
       " 'chesterton-ball.txt',\n",
       " 'chesterton-brown.txt',\n",
       " 'chesterton-thursday.txt',\n",
       " 'edgeworth-parents.txt',\n",
       " 'melville-moby_dick.txt',\n",
       " 'milton-paradise.txt',\n",
       " 'shakespeare-caesar.txt',\n",
       " 'shakespeare-hamlet.txt',\n",
       " 'shakespeare-macbeth.txt',\n",
       " 'whitman-leaves.txt']"
      ]
     },
     "execution_count": 10,
     "metadata": {},
     "output_type": "execute_result"
    }
   ],
   "source": [
    "gutenberg.fileids()"
   ]
  },
  {
   "cell_type": "code",
   "execution_count": 11,
   "id": "509881d8",
   "metadata": {},
   "outputs": [],
   "source": [
    "r = gutenberg.raw(['blake-poems.txt'])"
   ]
  },
  {
   "cell_type": "code",
   "execution_count": 12,
   "id": "dafaf669",
   "metadata": {},
   "outputs": [
    {
     "data": {
      "text/plain": [
       "'[Poems by William Blake 1789]\\n\\n \\nSONGS OF INNOCENCE AND OF EXPERIENCE\\nand THE BOOK of THEL\\n\\n\\n SONGS OF INNOCENCE\\n \\n \\n INTRODUCTION\\n \\n Piping down the valleys wild,\\n   Piping songs of pleasant glee,\\n On a cloud I saw a child,\\n   And he laughing said to me:\\n \\n \"Pipe a song about a Lamb!\"\\n   So I piped with merry cheer.\\n \"Piper, pipe that song again;\"\\n   So I piped: he wept to hear.\\n \\n \"Drop thy pipe, thy happy pipe;\\n   Sing thy songs of happy cheer:!\"\\n So I sang the same again,\\n   While he wept with joy to hear.\\n \\n \"Piper, sit thee down and write\\n   In a book, that all may read.\"\\n So he vanish\\'d from my sight;\\n   And I pluck\\'d a hollow reed,\\n \\n And I made a rural pen,\\n   And I stain\\'d the water clear,\\n And I wrote my happy songs\\n   Every child may joy to hear.\\n \\n \\n THE SHEPHERD\\n \\n How sweet is the Shepherd\\'s sweet lot!\\n From the morn to the evening he stays;\\n He shall follow his sheep all the day,\\n And his tongue shall be filled with praise.\\n \\n For he hears the lambs\\' innocent call,\\n And he hears the ewes\\' tender reply;\\n He is watching while they are in peace,\\n For they know when their Shepherd is nigh.\\n \\n \\n THE ECHOING GREEN\\n \\n The sun does arise,\\n And make happy the skies;\\n The merry bells ring\\n To welcome the Spring;\\n The skylark and thrush,\\n The birds of the bush,\\n Sing louder around\\n To the bells\\' cheerful sound;\\n While our sports shall be seen\\n On the echoing Green.\\n \\n Old John, with white hair,\\n Does laugh away care,\\n Sitting under the oak,\\n Among the old folk.\\n They laugh at our play,\\n And soon they all say,\\n \"Such, such were the joys\\n When we all -- girls and boys --\\n In our youth-time were seen\\n On the echoing Green.\"\\n \\n Till the little ones, weary,\\n No more can be merry:\\n The sun does descend,\\n And our sports have an end.\\n Round the laps of their mothers\\n Many sisters and brothers,\\n Like birds in their nest,\\n Are ready for rest,\\n And sport no more seen\\n On the darkening green.\\n \\n \\n THE LAMB\\n \\n   Little Lamb, who make thee\\n   Dost thou know who made thee,\\n Gave thee life, and bid thee feed\\n By the stream and o\\'er the mead;\\n Gave thee clothing of delight,\\n Softest clothing, wolly, bright;\\n Gave thee such a tender voice,\\n Making all the vales rejoice?\\n   Little Lamb, who made thee?\\n   Dost thou know who made thee?\\n \\n   Little Lamb, I\\'ll tell thee;\\n   Little Lamb, I\\'ll tell thee:\\n He is called by thy name,\\n For He calls Himself a Lamb\\n He is meek, and He is mild,\\n He became a little child.\\n I a child, and thou a lamb,\\n We are called by His name.\\n   Little Lamb, God bless thee!\\n   Little Lamb, God bless thee!\\n \\n \\n THE LITTLE BLACK BOY\\n \\n My mother bore me in the southern wild,\\n   And I  am black, but oh my soul is white!\\n White as an angel is the English child,\\n   But I am black, as if bereaved of light.\\n \\n My mother taught me underneath a tree,\\n   And, sitting down before the heat of day,\\n She took me on her lap and kissed me,\\n   And, pointed to the east, began to say:\\n \\n \"Look on the rising sun: there God does live,\\n   And gives His light, and gives His heat away,\\n And flowers and trees and beasts and men receive\\n   Comfort in morning, joy in the noonday.\\n \\n \"And we are put on earth a little space,\\n   That we may learn to bear the beams of love\\n And these black bodies and this sunburnt face\\n   Is but a cloud, and like a shady grove.\\n \\n \"For when our souls have learn\\'d the heat to bear,\\n   The cloud will vanish, we shall hear His voice,\\n Saying, \\'Come out from the grove, my love and care\\n   And round my golden tent like lambs rejoice\\',\"\\n \\n Thus did my mother say, and kissed me;\\n And thus I say to little English boy.\\n When I from black and he from white cloud free,\\n And round the tent of God like lambs we joy\\n \\n I\\'ll shade him from the heat till he can bear\\n To lean in joy upon our Father\\'s knee;\\n And then I\\'ll stand and stroke his silver hair,\\n And be like him, and he will then love me.\\n \\n \\n THE BLOSSOM\\n \\n Merry, merry sparrow!\\n Under leaves so green\\n A happy blossom \\n Sees you, swift as arrow,\\n Seek your cradle narrow,\\n Near my bosom.\\n Pretty, pretty robin!\\n Under leaves so green\\n A happy blossom\\n Hears you sobbing, sobbing,\\n Pretty, pretty robin,\\n Near my bosom.\\n \\n\\n THE CHIMNEY-SWEEPER\\n \\n When my mother died I was very young,\\n And my father sold me while yet my tongue\\n Could scarcely cry \"Weep! weep! weep! weep!\"\\n So your chimneys I sweep, and in soot I sleep.\\n \\n There\\'s little Tom Dacre, who cried when his head,\\n That curled like a lamb\\'s back, was shaved; so I said,\\n \"Hush, Tom! never mind it, for, when your head\\'s bare,\\n You know that the soot cannot spoil your white hair.\"\\n \\n And so he was quiet, and that very night,\\n As Tom was a-sleeping, he had such a sight! --\\n That thousands of sweepers, Dick, Joe, Ned, and Jack,\\n Were all of them locked up in coffins of black.\\n \\n And by came an angel, who had a bright key,\\n And he opened the coffins, and let them all free;\\n Then down a green plain, leaping, laughing, they run,\\n And wash in a river, and shine in the sun.\\n \\n Then naked and white, all their bags left behind,\\n They rise upon clouds, and sport in the wind;\\n And the Angel told Tom, if he\\'d be a good boy,\\n He\\'d have God for his father, and never want joy.\\n \\n And so Tom awoke, and we rose in the dark,\\n And got with our bags and our brushes to work.\\n Though the morning was cold, Tom was happy and warm:\\n So, if all do their duty, they need not fear harm.\\n \\n \\n THE LITTLE BOY LOST\\n \\n \"Father, father, where are you going?\\n   Oh do not walk so fast!\\n Speak, father, speak to you little boy,\\n   Or else I shall be lost.\"\\n \\n The night was dark, no father was there,\\n   The child was wet with dew;\\n The mire was deep, and the child did weep,\\n   And away the vapour flew.\\n \\n \\n THE LITTLE BOY FOUND\\n \\n The little boy lost in the lonely fen,\\n   Led by the wandering light,\\n Began to cry, but God, ever nigh,\\n   Appeared like his father, in white.\\n \\n He kissed the child, and by the hand led,\\n   And to his mother brought,\\n Who in sorrow pale, through the lonely dale,\\n   The little boy weeping sought.\\n \\n \\n LAUGHING SONG\\n \\n When the green woods laugh with the voice of joy,\\n And the dimpling stream runs laughing by;\\n When the air does laugh with our merry wit,\\n And the green hill laughs with the noise of it;\\n \\n when the meadows laugh with lively green,\\n And the grasshopper laughs in the merry scene,\\n When Mary and Susan and Emily\\n With their sweet round mouths sing \"Ha, ha he!\"\\n \\n When the painted birds laugh in the shade,\\n Where our table with cherries and nuts is spread:\\n Come live, and be merry, and join with me,\\n To sing the sweet chorus of \"Ha, ha, he!\"\\n \\n \\n A  SONG\\n \\n Sweet dreams, form a shade\\n O\\'er my lovely infant\\'s head!\\n Sweet dreams of pleasant streams\\n By happy, silent, moony beams!\\n \\n Sweet Sleep, with soft down\\n Weave thy brows an infant crown\\n Sweet Sleep, angel mild,\\n Hover o\\'er my happy child!\\n \\n Sweet smiles, in the night\\n Hover over my delight!\\n Sweet smiles, mother\\'s smile,\\n All the livelong night beguile.\\n \\n Sweet moans, dovelike sighs,\\n Chase not slumber from thine eyes!\\n Sweet moan, sweeter smile,\\n All the dovelike moans beguile.\\n \\n Sleep, sleep, happy child!\\n All creation slept and smiled.\\n Sleep, sleep, happy sleep,\\n While o\\'er thee doth mother weep.\\n \\n Sweet babe, in thy face\\n Holy image I can trace;\\n Sweet babe, once like thee\\n Thy Maker lay, and wept for me:\\n \\n Wept for me, for thee, for all,\\n When He was an infant small.\\n Thou His image ever see,\\n Heavenly face that smiles on thee!\\n \\n Smiles on thee, on me, on all,\\n Who became an infant small;\\n Infant smiles are his own smiles;\\n Heaven and earth to peace beguiles.\\n \\n \\n DIVINE IMAGE\\n \\n To Mercy, Pity, Peace, and Love,\\n   All pray in their distress,\\n And to these virtues of delight\\n   Return their thankfulness.\\n \\n For Mercy, Pity, Peace, and Love,\\n   Is God our Father dear;\\n And Mercy, Pity, Peace, and Love,\\n   Is man, his child and care.\\n \\n For Mercy has a human heart\\n   Pity, a human face;\\n And Love, the human form divine;\\n   And Peace, the human dress.\\n \\n Then every man, of every clime,\\n   That prays in his distress,\\n Prays to the human form divine:\\n   Love, Mercy, Pity, Peace.\\n \\n And all must love the human form,\\n   In heathen, Turk, or Jew.\\n Where Mercy, Love, and Pity dwell,\\n   There God is dwelling too.\\n \\n \\n HOLY THURSDAY\\n \\n \\'Twas on a Holy Thursday, their innocent faces clean,\\n Came children walking two and two, in read, and blue, and green:\\n Grey-headed beadles walked before, with wands as white as snow,\\n Till into the high dome of Paul\\'s they like Thames waters flow.\\n \\n Oh what a multitude they seemed, these flowers of London town!\\n Seated in companies they sit, with radiance all their own.\\n The hum of multitudes was there, but multitudes of lambs,\\n Thousands of little boys and girls raising their innocent hands.\\n \\n Now like a mighty wild they raise to heaven the voice of song,\\n Or like harmonious thunderings the seats of heaven among:\\n Beneath them sit the aged man, wise guardians of the poor.\\n Then cherish pity, lest you drive an angel from your door.\\n \\n \\n NIGHT\\n \\n The sun descending in the west,\\n The evening star does shine;\\n The birds are silent in their nest,\\n And I must seek for mine.\\n   The moon, like a flower\\n   In heaven\\'s high bower,\\n   With silent delight,\\n   Sits and smiles on the night.\\n \\n Farewell, green fields and happy grove,\\n Where flocks have ta\\'en delight.\\n Where lambs have nibbled, silent move\\n The feet of angels bright;\\n   Unseen they pour blessing,\\n   And joy without ceasing,\\n   On each bud and blossom,\\n   And each sleeping bosom.\\n \\n They look in every thoughtless nest\\n Where birds are covered warm;\\n They visit caves of every beast,\\n To keep them all from harm:\\n   If they see any weeping\\n   That should have been sleeping,\\n   They pour sleep on their head,\\n   And sit down by their bed.\\n \\n When wolves and tigers howl for prey,\\n They pitying stand and weep;\\n Seeking to drive their thirst away,\\n And keep them from the sheep.\\n   But, if they rush dreadful,\\n   The angels, most heedful,\\n   Receive each mild spirit,\\n   New worlds to inherit.\\n \\n \\n And there the lion\\'s ruddy eyes\\n Shall flow with tears of gold:\\n And pitying the tender cries,\\n And walking round the fold:\\n   Saying: \"Wrath by His meekness,\\n   And, by His health, sickness,\\n   Are driven away\\n   From our immortal day.\\n \\n \"And now beside thee, bleating lamb,\\n I can lie down and sleep,\\n Or think on Him who bore thy name,\\n Graze after thee, and weep.\\n   For, washed in life\\'s river,\\n   My bright mane for ever\\n   Shall shine like the gold,\\n   As I guard o\\'er the fold.\"\\n \\n \\n SPRING\\n \\n      Sound the flute!\\n      Now it\\'s mute!\\n      Bird\\'s delight,\\n      Day and night,\\n      Nightingale,\\n      In the dale,\\n      Lark in sky,--\\n      Merrily,\\n Merrily merrily, to welcome in the year.\\n \\n      Little boy,\\n      Full of joy;\\n      Little girl,\\n      Sweet and small;\\n      Cock does crow,\\n      So do you;\\n      Merry voice,\\n      Infant noise;\\n Merrily, merrily, to welcome in the year.\\n \\n      Little lamb,\\n      Here I am;\\n      Come and lick\\n      My white neck;\\n      Let me pull\\n      Your soft wool;\\n      Let me kiss\\n      Your soft face;\\n Merrily, merrily, to welcome in the year.\\n \\n \\n NURSE\\'S SONG\\n \\n When the voices of children are heard on the green,\\n   And laughing is heard on the hill,\\n My heart is at rest within my breast,\\n   And everything else is still.\\n \"Then come home, my children, the sun is gone down,\\n   And the dews of night arise;\\n Come, come, leave off play, and let us away,\\n   Till the morning appears in the skies.\"\\n \\n \"No, no, let us play, for it is yet day,\\n   And we cannot go to sleep;\\n Besides, in the sky the little birds fly,\\n   And the hills are all covered with sheep.\"\\n \"Well, well, go and play till the light fades away,\\n   And then go home to bed.\"\\n The little ones leaped, and shouted, and laughed,\\n   And all the hills echoed.\\n \\n \\n INFANT JOY\\n \\n \"I have no name;\\n I am but two days old.\"\\n What shall I call thee?\\n \"I happy am,\\n Joy is my name.\"\\n Sweet joy befall thee!\\n \\n Pretty joy!\\n Sweet joy, but two days old.\\n Sweet Joy I call thee:\\n Thou dost smile,\\n I sing the while;\\n Sweet joy befall thee!\\n \\n \\n A DREAM\\n \\n Once a dream did weave a shade\\n O\\'er my angel-guarded bed,\\n That an emmet lost its way\\n Where on grass methought I lay.\\n \\n Troubled, wildered, and forlorn,\\n Dark, benighted, travel-worn,\\n Over many a tangle spray,\\n All heart-broke, I heard her say:\\n \\n \"Oh my children! do they cry,\\n Do they hear their father sigh?\\n Now they look abroad to see,\\n Now return and weep for me.\"\\n \\n Pitying, I dropped a tear:\\n But I saw a glow-worm near,\\n Who replied, \"What wailing wight\\n Calls the watchman of the night?\\n \\n \"I am set to light the ground,\\n While the beetle goes his round:\\n Follow now the beetle\\'s hum;\\n Little wanderer, hie thee home!\"\\n \\n \\n ON ANOTHER\\'S SORROW\\n \\n Can I see another\\'s woe,\\n And not be in sorrow too?\\n Can I see another\\'s grief,\\n And not seek for kind relief?\\n \\n Can I see a falling tear,\\n And not feel my sorrow\\'s share?\\n Can a father see his child\\n Weep, nor be with sorrow filled?\\n \\n Can a mother sit and hear\\n An infant groan, an infant fear?\\n No, no!  never can it be!\\n Never, never can it be!\\n \\n And can He who smiles on all\\n Hear the wren with sorrows small,\\n Hear the small bird\\'s grief and care,\\n Hear the woes that infants bear --\\n \\n And not sit beside the next,\\n Pouring pity in their breast,\\n And not sit the cradle near,\\n Weeping tear on infant\\'s tear?\\n \\n And not sit both night and day,\\n Wiping all our tears away?\\n Oh no! never can it be!\\n Never, never can it be!\\n \\n He doth give his joy to all:\\n He becomes an infant small,\\n He becomes a man of woe,\\n He doth feel the sorrow too.\\n \\n Think not thou canst sigh a sigh,\\n And thy Maker is not by:\\n Think not thou canst weep a tear,\\n And thy Maker is not year.\\n \\n Oh He gives to us his joy,\\n That our grief He may destroy:\\n Till our grief is fled an gone\\n He doth sit by us and moan.\\n \\n \\n SONGS OF EXPERIENCE\\n \\n \\n INTRODUCTION\\n \\n Hear the voice of the Bard,\\n Who present, past, and future, sees;\\n Whose ears have heard\\n The Holy Word\\n That walked among the ancient tree;\\n \\n Calling the lapsed soul,\\n And weeping in the evening dew;\\n That might control\\n The starry pole,\\n And fallen, fallen light renew!\\n \\n \"O Earth, O Earth, return!\\n Arise from out the dewy grass!\\n Night is worn,\\n And the morn\\n Rises from the slumbrous mass.\\n \\n \"Turn away no more;\\n Why wilt thou turn away?\\n The starry floor,\\n The watery shore,\\n Are given thee till the break of day.\"\\n \\n \\n EARTH\\'S ANSWER\\n \\n Earth raised up her head\\n From the darkness dread and drear,\\n Her light fled,\\n Stony, dread,\\n And her locks covered with grey despair.\\n \\n \"Prisoned on watery shore,\\n Starry jealousy does keep my den\\n Cold and hoar;\\n Weeping o\\'re,\\n I hear the father of the ancient men.\\n \\n \"Selfish father of men!\\n Cruel, jealous, selfish fear!\\n Can delight,\\n Chained in night,\\n The virgins of youth and morning bear?\\n \\n \\n \"Does spring hide its joy,\\n When buds and blossoms grow?\\n Does the sower \\n Sow by night,\\n Or the plowman in darkness plough?\\n \\n \"Break this heavy chain,\\n That does freeze my bones around!\\n Selfish, vain,\\n Eternal bane,\\n That free love with bondage bound.\"\\n \\n \\n THE CLOD AND THE PEBBLE\\n \\n \"Love seeketh not itself to please,\\n   Nor for itself hath any care,\\n But for another gives it ease,\\n   And builds a heaven in hell\\'s despair.\"\\n \\n So sang a little clod of clay,\\n   Trodden with the cattle\\'s feet,\\n But a pebble of the brook\\n   Warbled out these metres meet:\\n \\n \"Love seeketh only Self to please,\\n   To bind another to its delight,\\n Joys in another\\'s loss of ease,\\n   And builds a hell in heaven\\'s despite.\"\\n \\n \\n HOLY THURSDAY\\n \\n Is this a holy thing to see\\n   In a rich and fruitful land, --\\n Babes reduced to misery,\\n   Fed with cold and usurous hand?\\n \\n Is that trembling cry a song?\\n   Can it be a song of joy?\\n And so many children poor?\\n   It is a land of poverty!\\n \\n And their son does never shine,\\n   And their fields are bleak and bare,\\n And their ways are filled with thorns:\\n   It is eternal winter there.\\n \\n For where\\'er the sun does shine,\\n   And where\\'er the rain does fall,\\n Babes should never hunger there,\\n   Nor poverty the mind appall.\\n \\n \\n THE LITTLE GIRL LOST\\n \\n In futurity\\n I prophetic see\\n That the earth from sleep\\n (Grave the sentence deep)\\n \\n Shall arise, and seek\\n for her Maker meek;\\n And the desert wild\\n Become a garden mild.\\n \\n In the southern clime,\\n Where the summer\\'s prime\\n Never fades away,\\n Lovely Lyca lay.\\n \\n Seven summers old\\n Lovely Lyca told.\\n She had wandered long,\\n Hearing wild birds\\' song.\\n \\n \"Sweet sleep, come to me\\n Underneath this tree;\\n Do father, mother, weep?\\n Where can Lyca sleep?\\n \\n \"Lost in desert wild\\n Is your little child.\\n How can Lyca sleep\\n If her mother weep?\\n \\n \"If her heart does ache,\\n Then let Lyca wake;\\n If my mother sleep,\\n Lyca shall not weep.\\n \\n \"Frowning, frowning night,\\n O\\'er this desert bright\\n Let thy moon arise,\\n While I close my eyes.\"\\n \\n Sleeping Lyca lay\\n While the beasts of prey,\\n Come from caverns deep,\\n Viewed the maid asleep.\\n \\n The kingly lion stood,\\n And the virgin viewed:\\n Then he gambolled round\\n O\\'er the hallowed ground.\\n \\n Leopards, tigers, play\\n Round her as she lay;\\n While the lion old\\n Bowed his mane of gold,\\n \\n And her breast did lick\\n And upon her neck,\\n From his eyes of flame,\\n Ruby tears there came;\\n \\n While the lioness\\n Loosed her slender dress,\\n And naked they conveyed\\n To caves the sleeping maid.\\n \\n \\n THE LITTLE GIRL FOUND\\n \\n All the night in woe\\n Lyca\\'s parents go\\n Over valleys deep,\\n While the deserts weep.\\n \\n Tired and woe-begone,\\n Hoarse with making moan,\\n Arm in arm, seven days\\n They traced the desert ways.\\n \\n Seven nights they sleep\\n Among shadows deep,\\n And dream they see their child\\n Starved in desert wild.\\n \\n Pale through pathless ways\\n The fancied image strays,\\n Famished, weeping, weak,\\n With hollow piteous shriek.\\n \\n Rising from unrest,\\n The trembling woman presse\\n With feet of weary woe;\\n She could no further go.\\n \\n In his arms he bore\\n Her, armed with sorrow sore;\\n Till before their way\\n A couching lion lay.\\n \\n Turning back was vain:\\n Soon his heavy mane\\n Bore them to the ground,\\n Then he stalked around,\\n \\n Smelling to his prey;\\n But their fears allay\\n When he licks their hands,\\n And silent by them stands.\\n \\n They look upon his eyes,\\n Filled with deep surprise;\\n And wondering behold\\n A spirit armed in gold.\\n \\n On his head a crown,\\n On his shoulders down\\n Flowed his golden hair.\\n Gone was all their care.\\n \\n \"Follow me,\" he said;\\n \"Weep not for the maid;\\n In my palace deep,\\n Lyca lies asleep.\"\\n \\n Then they followed\\n Where the vision led,\\n And saw their sleeping child\\n Among tigers wild.\\n \\n To this day they dwell\\n In a lonely dell,\\n Nor fear the wolvish howl\\n Nor the lion\\'s growl.\\n \\n \\n THE CHIMNEY SWEEPER\\n \\n A little black thing in the snow,\\n Crying \"weep! weep!\" in notes of woe!\\n \"Where are thy father and mother? Say!\"--\\n \"They are both gone up to the church to pray.\\n \\n \"Because I was happy upon the heath,\\n And smiled among the winter\\'s snow,\\n They clothed me in the clothes of death,\\n And taught me to sing the notes of woe.\\n \\n \"And because I am happy and dance and sing,\\n They think they have done me no injury,\\n And are gone to praise God and his priest and king,\\n Who make up a heaven of our misery.\"\\n \\n \\n NURSE\\'S SONG\\n \\n When voices of children are heard on the green,\\n And whisperings are in the dale,\\n The days of my youth rise fresh in my mind,\\n My face turns green and pale.\\n \\n Then come home, my children, the sun is gone down,\\n And the dews of night arise;\\n Your spring and your day are wasted in play,\\n And your winter and night in disguise.\\n \\n \\n THE SICK ROSE\\n \\n O rose, thou art sick!\\n   The invisible worm,\\n That flies in the night,\\n   In the howling storm,\\n \\n Has found out thy bed\\n   Of crimson joy,\\n And his dark secret love\\n   Does thy life destroy.\\n \\n \\n THE FLY\\n \\n Little Fly,\\n Thy summer\\'s play\\n My thoughtless hand\\n Has brushed away.\\n \\n Am not I\\n A fly like thee?\\n Or art not thou\\n A man like me?\\n \\n For I dance\\n And drink, and sing,\\n Till some blind hand\\n Shall brush my wing.\\n \\n If thought is life\\n And strength and breath\\n And the want \\n Of thought is death;\\n \\n Then am I\\n A happy fly,\\n If I live,\\n Or if I die.\\n \\n \\n THE ANGEL\\n \\n I dreamt a dream!  What can it mean?\\n And that I was a maiden Queen\\n Guarded by an Angel mild:\\n Witless woe was ne\\'er beguiled!\\n \\n And I wept both night and day,\\n And he wiped my tears away;\\n And I wept both day and night,\\n And hid from him my heart\\'s delight.\\n \\n So he took his wings, and fled;\\n Then the morn blushed rosy red.\\n I dried my tears, and armed my fears\\n With ten-thousand shields and spears.\\n \\n Soon my Angel came again;\\n I was armed, he came in vain;\\n For the time of youth was fled,\\n And grey hairs were on my head.\\n \\n \\n THE TIGER\\n \\n Tiger, tiger, burning bright\\n In the forest of the night,\\n What immortal hand or eye\\n Could Frame thy fearful symmetry?\\n \\n In what distant deeps or skies\\n Burnt the fire of thine eyes?\\n On what wings dare he aspire?\\n What the hand dare seize the fire?\\n \\n And what shoulder and what art\\n Could twist the sinews of thy heart?\\n And, when thy heart began to beat,\\n What dread hand and what dread feet?\\n \\n What the hammer?  what the chain?\\n In what furnace was thy brain?\\n What the anvil? what dread grasp\\n Dare its deadly terrors clasp?\\n \\n When the stars threw down their spears,\\n And watered heaven with their tears,\\n Did he smile his work to see?\\n Did he who made the lamb make thee?\\n \\n Tiger, tiger, burning bright\\n In the forests of the night,\\n What immortal hand or eye\\n Dare frame thy fearful symmetry?\\n \\n \\n MY PRETTY ROSE TREE\\n \\n A flower was offered to me,\\n   Such a flower as May never bore;\\n But I said \"I\\'ve a pretty rose tree,\"\\n   And I passed the sweet flower o\\'er.\\n \\n Then I went to my pretty rose tree,\\n   To tend her by day and by night;\\n But my rose turned away with jealousy,\\n   And her thorns were my only delight.\\n \\n \\n AH SUNFLOWER\\n \\n Ah Sunflower, weary of time,\\n   Who countest the steps of the sun;\\n Seeking after that sweet golden clime\\n   Where the traveller\\'s journey is done;\\n \\n Where the Youth pined away with desire,\\n   And the pale virgin shrouded in snow,\\n Arise from their graves, and aspire\\n   Where my Sunflower wishes to go!\\n \\n \\n THE LILY\\n \\n The modest Rose puts forth a thorn,\\n The humble sheep a threat\\'ning horn:\\n While the Lily white shall in love delight,\\n Nor a thorn nor a threat stain her beauty bright.\\n \\n \\n THE GARDEN OF LOVE\\n \\n I laid me down upon a bank,\\n   Where Love lay sleeping;\\n I heard among the rushes dank\\n   Weeping, weeping.\\n \\n Then I went to the heath and the wild,\\n   To the thistles and thorns of the waste;\\n And they told me how they were beguiled,\\n   Driven out, and compelled to the chaste.\\n \\n I went to the Garden of Love,\\n   And saw what I never had seen;\\n A Chapel was built in the midst,\\n   Where I used to play on the green.\\n \\n And the gates of this Chapel were shut\\n   And \"Thou shalt not,\" writ over the door;\\n So I turned to the Garden of Love\\n   That so many sweet flowers bore.\\n \\n And I saw it was filled with graves,\\n   And tombstones where flowers should be;\\n And priests in black gowns were walking their rounds,\\n   And binding with briars my joys and desires.\\n \\n \\n THE LITTLE VAGABOND\\n \\n Dear mother, dear mother, the Church is cold;\\n But the Alehouse is healthy, and pleasant, and warm.\\n Besides, I can tell where I am used well;\\n The poor parsons with wind like a blown bladder swell.\\n \\n But, if at the Church they would give us some ale,\\n And a pleasant fire our souls to regale,\\n We\\'d sing and we\\'d pray all the livelong day,\\n Nor ever once wish from the Church to stray.\\n \\n Then the Parson might preach, and drink, and sing,\\n And we\\'d be as happy as birds in the spring;\\n And modest Dame Lurch, who is always at church,\\n Would not have bandy children, nor fasting, nor birch.\\n \\n And God, like a father, rejoicing to see\\n His children as pleasant and happy as he,\\n Would have no more quarrel with the Devil or the barrel,\\n But kiss him, and give him both drink and apparel.\\n \\n \\n LONDON\\n \\n I wandered through each chartered street,\\n   Near where the chartered Thames does flow,\\n A mark in every face I meet,\\n   Marks of weakness, marks of woe.\\n \\n In every cry of every man,\\n   In every infant\\'s cry of fear,\\n In every voice, in every ban,\\n   The mind-forged manacles I hear:\\n \\n How the chimney-sweeper\\'s cry\\n   Every blackening church appals,\\n And the hapless soldier\\'s sigh\\n   Runs in blood down palace-walls.\\n \\n But most, through midnight streets I hear\\n   How the youthful harlot\\'s curse\\n Blasts the new-born infant\\'s tear,\\n   And blights with plagues the marriage-hearse.\\n \\n \\n THE HUMAN ABSTRACT\\n \\n Pity would be no more\\n If we did not make somebody poor,\\n And Mercy no more could be\\n If all were as happy as we.\\n \\n And mutual fear brings Peace,\\n Till the selfish loves increase\\n Then Cruelty knits a snare,\\n And spreads his baits with care.\\n \\n He sits down with his holy fears,\\n And waters the ground with tears;\\n Then Humility takes its root\\n Underneath his foot.\\n \\n Soon spreads the dismal shade\\n Of Mystery over his head,\\n And the caterpillar and fly\\n Feed on the Mystery.\\n \\n And it bears the fruit of Deceit,\\n Ruddy and sweet to eat,\\n And the raven his nest has made\\n In its thickest shade.\\n \\n The gods of the earth and sea\\n Sought through nature to find this tree,\\n But their search was all in vain:\\n There grows one in the human Brain.\\n \\n \\n INFANT SORROW\\n \\n My mother groaned, my father wept:\\n Into the dangerous world I leapt,\\n Helpless, naked, piping loud,\\n Like a fiend hid in a cloud.\\n \\n Struggling in my father\\'s hands,\\n Striving against my swaddling-bands,\\n Bound and weary, I thought best\\n To sulk upon my mother\\'s breast.\\n \\n \\n A POISON TREE\\n \\n I was angry with my friend:\\n I told my wrath, my wrath did end.\\n I was angry with my foe:\\n I told it not, my wrath did grow.\\n \\n And I watered it in fears\\n Night and morning with my tears,\\n And I sunned it with smiles\\n And with soft deceitful wiles.\\n \\n And it grew both day and night,\\n Till it bore an apple bright,\\n And my foe beheld it shine,\\n and he knew that it was mine, --\\n \\n And into my garden stole\\n When the night had veiled the pole;\\n In the morning, glad, I see\\n My foe outstretched beneath the tree.\\n \\n \\n A LITTLE BOY LOST\\n \\n \"Nought loves another as itself,\\n   Nor venerates another so,\\n Nor is it possible to thought\\n   A greater than itself to know.\\n \\n \"And, father, how can I love you \\n   Or any of my brothers more?\\n I love you like the little bird\\n   That picks up crumbs around the door.\"\\n \\n The Priest sat by and heard the child;\\n   In trembling zeal he seized his hair,\\n He led him by his little coat,\\n   And all admired the priestly care. \\n \\n And standing on the altar high,\\n   \"Lo, what a fiend is here! said he:\\n \"One who sets reason up for judge\\n   Of our most holy mystery.\"\\n \\n The weeping child could not be heard,\\n   The weeping parents wept in vain:\\n They stripped him to his little shirt,\\n   And bound him in an iron chain,\\n \\n And burned him in a holy place\\n   Where many had been burned before;\\n The weeping parents wept in vain.\\n   Are such thing done on Albion\\'s shore?\\n \\n \\n A LITTLE GIRL LOST\\n \\n Children of the future age,\\n Reading this indignant page,\\n Know that in a former time\\n Love, sweet love, was thought a crime.\\n \\n In the age of gold,\\n Free from winter\\'s cold,\\n Youth and maiden bright,\\n To the holy light,\\n Naked in the sunny beams delight.\\n \\n Once a youthful pair,\\n Filled with softest care,\\n Met in garden bright\\n Where the holy light\\n Had just removed the curtains of the night.\\n \\n Then, in rising day,\\n On the grass they play;\\n Parents were afar,\\n Strangers came not near,\\n And the maiden soon forgot her fear.\\n \\n Tired with kisses sweet,\\n They agree to meet\\n When the silent sleep\\n Waves o\\'er heaven\\'s deep,\\n And the weary tired wanderers weep.\\n \\n To her father white\\n Came the maiden bright;\\n But his loving look,\\n Like the holy book\\n All her tender limbs with terror shook.\\n \\n \"Ona, pale and weak,\\n To thy father speak!\\n Oh the trembling fear!\\n Oh the dismal care\\n That shakes the blossoms of my hoary hair!\"\\n \\n \\n THE SCHOOLBOY\\n \\n I love to rise on a summer morn, \\n   When birds are singing on every tree;\\n The distant huntsman winds his horn,\\n   And the skylark sings with me:\\n   Oh what sweet company!\\n \\n But to go to school in a summer morn, --\\n   Oh it drives all joy away!\\n Under a cruel eye outworn,\\n   The little ones spend the day\\n   In sighing and dismay.\\n \\n Ah then at times I drooping sit,\\n   And spend many an anxious hour;\\n Nor in my book can I take delight,\\n   Nor sit in learning\\'s bower,\\n   Worn through with the dreary shower.\\n \\n How can the bird that is born for joy\\n   Sit in a cage and sing?\\n How can a child, when fears annoy,\\n   But droop his tender wing,\\n   And forget his youthful spring?\\n \\n Oh father and mother, if buds are nipped,\\n   And blossoms blown away;\\n And if the tender plants are stripped\\n   Of their joy in the springing day,\\n   By sorrow and care\\'s dismay, --\\n \\n How shall the summer arise in joy,\\n   Or the summer fruits appear?\\n Or how shall we gather what griefs destroy,\\n   Or bless the mellowing year,\\n   When the blasts of winter appear?\\n \\n \\n TO TERZAH\\n \\n Whate\\'er is born of mortal birth\\n Must be consumed with the earth,\\n To rise from generation free:\\n Then what have I to do with thee?\\n The sexes sprang from shame and pride,\\n Blown in the morn, in evening died;\\n But mercy changed death into sleep;\\n The sexes rose to work and weep.\\n \\n Thou, mother of my mortal part,\\n With cruelty didst mould my heart,\\n And with false self-deceiving tears\\n Didst bind my nostrils, eyes, and ears,\\n \\n Didst close my tongue in senseless clay,\\n And me to mortal life betray.\\n The death of Jesus set me free:\\n Then what have I to do with thee?\\n \\n \\n THE VOICE OF THE ANCIENT BARD\\n \\n Youth of delight!  come hither\\n And see the opening morn,\\n Image of Truth new-born.\\n Doubt is fled, and clouds of reason,\\n Dark disputes and artful teazing.\\n Folly is an endless maze;\\n Tangled roots perplex her ways;\\n How many have fallen there!\\n They stumble all night over bones of the dead;\\n And feel -- they know not what but care;\\n And wish to lead others, when they should be led.\\n\\n\\nAPPENDIX\\n\\n A DIVINE IMAGE\\n \\n Cruelty has a human heart,\\n   And Jealousy a human face;\\n Terror the human form divine,\\n   And Secresy the human dress.\\n \\n The human dress is forged iron,\\n   The human form a fiery forge,\\n The human face a furnace sealed,\\n   The human heart its hungry gorge.\\n \\n NOTE:  Though written and engraved by Blake, \"A DIVINE IMAGE\" was never\\nincluded in the SONGS OF INNOCENCE AND OF EXPERIENCE.\\n\\n\\n\\n\\n\\n\\nWilliam Blake\\'s \\n\\nTHE BOOK of THEL\\n\\n\\nTHEL\\'S Motto\\n\\nDoes the Eagle know what is in the pit?\\nOr wilt thou go ask the Mole:\\nCan Wisdom be put in a silver rod?\\nOr Love in a golden bowl?\\n\\n\\nTHE BOOK of THEL\\n\\nThe Author & Printer Willm. Blake. 1780\\n\\n\\nTHEL\\n\\nI\\n\\nThe daughters of Mne Seraphim led round their sunny flocks,\\nAll but the youngest: she in paleness sought the secret air.\\nTo fade away like morning beauty from her mortal day:\\nDown by the river of Adona her soft voice is heard;\\nAnd thus her gentle lamentation falls like morning dew.\\n\\nO life of this our spring!  why fades the lotus of the water?\\nWhy fade these children of the spring? born but to smile & fall.\\nAh! Thel is like a watry bow, and like a parting cloud,\\nLike a reflection in a glass: like shadows in the water\\nLike dreams of infants, like a smile upon an infants face.\\nLike the doves voice, like transient day, like music in the air:\\nAh! gentle may I lay me down and gentle rest my head.\\nAnd gentle sleep the sleep of death, and gently hear the voice \\nOf him that walketh in the garden in the evening time.\\n\\nThe Lilly of the valley breathing in the humble grass\\nAnswerd the lovely maid and said: I am a watry weed,\\nAnd I am very small and love to dwell in lowly vales:\\nSo weak the gilded butterfly scarce perches on my head\\nYet I am visited from heaven and he that smiles on all\\nWalks in the valley, and each morn over me spreads his hand\\nSaying, rejoice thou humble grass, thou new-born lily flower.\\nThou gentle maid of silent valleys and of modest brooks:\\nFor thou shall be clothed in light, and fed with morning manna:\\nTill summers heat melts thee beside the fountains and the springs\\nTo flourish in eternal vales: they why should Thel complain.\\nWhy should the mistress of the vales of Har, utter a sigh.\\n\\nShe ceasd & smild in tears, then sat down in her silver shrine.\\n\\nThel answerd, O thou little virgin of the peaceful valley.\\nGiving to those that cannot crave, the voiceless, the o\\'er tired\\nThe breath doth nourish the innocent lamb, he smells the milky garments\\nHe crops thy flowers while thou sittest smiling in his face,\\nWiping his mild and meekin mouth from all contagious taints.\\nThy wine doth purify the golden honey; thy perfume.\\nWhich thou dost scatter on every little blade of grass that springs\\nRevives the milked cow, & tames the fire-breathing steed.\\nBut Thel is like a faint cloud kindled at the rising sun:\\nI vanish from my pearly throne, and who shall find my place.\\n\\nQueen of the vales the Lily answered, ask the tender cloud,\\nAnd it shall tell thee why it glitters in the morning sky.\\nAnd why it scatters its bright beauty thro the humid air.\\nDescend O little cloud & hover before the eyes of Thel.\\n\\nThe Cloud descended and the Lily bowd her modest head:\\nAnd went to mind her numerous charge among the verdant grass.\\n\\n\\nII.\\n\\nO little Cloud the virgin said, I charge thee to tell me\\nWhy thou complainest now when in one hour thou fade away:\\nThen we shall seek thee but not find: ah Thel is like to thee.\\nI pass away, yet I complain, and no one hears my voice.\\n\\nThe Cloud then shewd his golden head & his bright form emerg\\'d.\\nHovering and glittering on the air before the face of Thel.\\n\\nO virgin know\\'st thou not our steeds drink of the golden springs\\nWhere Luvah doth renew his horses: lookst thou on my youth.\\nAnd fearest thou because I vanish and am seen no more.\\nNothing remains; O maid I tell thee, when I pass away.\\nIt is to tenfold life, to love, to peace, and raptures holy:\\nUnseen descending, weigh my light wings upon balmy flowers:\\nAnd court the fair eyed dew, to take me to her shining tent\\nThe weeping virgin, trembling kneels before the risen sun.\\nTill we arise link\\'d in a golden band and never part:\\nBut walk united bearing food to all our tender flowers.\\n\\nDost thou O little cloud?  I fear that I am not like thee:\\nFor I walk through the vales of Har, and smell the sweetest flowers:\\nBut I feed not the little flowers: I hear the warbling birds,\\nBut I feed not the warbling birds, they fly and seek their food:\\nBut Thel delights in these no more because I fade away\\nAnd all shall say, without a use this shining women liv\\'d,\\nOr did she only live to be at death the food of worms.\\n\\nThe Cloud reclind upon his airy throne and answerd thus.\\n\\nThen if thou art the food of worms, O virgin of the skies,\\nHow great thy use, how great thy blessing, every thing that lives.\\nLives not alone nor or itself: fear not and I will call,\\nThe weak worm from its lowly bed, and thou shalt hear its voice.\\nCome forth worm and the silent valley, to thy pensive queen.\\n\\nThe helpless worm arose and sat upon the Lillys leaf,\\nAnd the bright Cloud saild on, to find his partner in the vale.\\n\\n\\nIII.\\n\\nThen Thel astonish\\'d view\\'d the Worm upon its dewy bed.\\n\\nArt thou a Worm?  image of weakness.  art thou but a Worm?\\nI see thee like an infant wrapped in the Lillys leaf;\\nAh weep not little voice, thou can\\'st not speak, but thou can\\'st weep:\\nIs this a Worm?  I see they lay helpless & naked: weeping\\nAnd none to answer, none to cherish thee with mothers smiles.\\n\\nThe Clod of Clay heard the Worms voice & rais\\'d her pitying head:\\nShe bowd over the weeping infant, and her life exhald\\nIn milky fondness, then on Thel she fix\\'d her humble eyes\\n\\nO beauty of the vales of Har, we live not for ourselves,\\nThou seest me the meanest thing, and so I am indeed:\\nMy bosom of itself is cold, and of itself is dark,\\n\\nBut he that loves the lowly, pours his oil upon my head\\nAnd kisses me, and binds his nuptial bands around my breast.\\nAnd says; Thou mother of my children, I have loved thee\\nAnd I have given thee a crown that none can take away.\\nBut how this is sweet maid, I know not, and I cannot know\\nI ponder, and I cannot ponder; yet I live and love.\\n\\nThe daughter of beauty wip\\'d her pitying tears with her white veil,\\nAnd said, Alas!  I knew not this, and therefore did I weep:\\nThat God would love a Worm I knew, and punish the evil foot\\nThat wilful bruis\\'d its helpless form: but that he cherish\\'d it\\nWith milk and oil I never knew, and therefore did I weep,\\nAnd I complaind in the mild air, because I fade away.\\nAnd lay me down in thy cold bed, and leave my shining lot.\\n\\nQueen of the vales, the matron Clay answered: I heard thy sighs.\\nAnd all thy moans flew o\\'er my roof, but I have call\\'d them down:\\nWilt thou O Queen enter my house, tis given thee to enter,\\nAnd to return: fear nothing, enter with thy virgin feet.\\n\\n\\nIV.\\n\\nThe eternal gates terrific porter lifted the northern bar:\\nThel enter\\'d in & saw the secrets of the land unknown;\\nShe saw the couches of the dead, & where the fibrous roots\\nOf every heart on earth infixes deep its restless twists:\\nA land of sorrows & of tears where never smile was seen.\\n\\nShe wandered in the land of clouds thro\\' valleys dark, listning\\nDolors & lamentations: waiting oft beside the dewy grave\\nShe stood in silence, listning to the voices of the ground,\\nTill to her own grave plot she came, & there she sat down.\\nAnd heard this voice of sorrow breathed from the hollow pit.\\n\\nWhy cannot the Ear be closed to its own destruction?\\nOr the glistening Eye to the poison of a smile!\\nWhy are Eyelids stord with arrows ready drawn,\\nWhere a thousand fighting men in ambush lie!\\nOr an Eye of gifts & graces showring fruits & coined gold!\\n\\nWhy a Tongue impress\\'d with honey from every wind?\\nWhy an Ear, a whirlpool fierce to draw creations in?\\nWhy a Nostril wide inhaling terror trembling & affright\\nWhy a tender curb upon the youthful burning boy?\\nWhy a little curtain of flesh on the bed of our desire?\\n\\nThe Virgin started from her seat, & with a shriek,\\nFled back unhinderd till she came into the vales of Har\\n\\n\\n'"
      ]
     },
     "execution_count": 12,
     "metadata": {},
     "output_type": "execute_result"
    }
   ],
   "source": [
    "emma = r[0:]\n",
    "emma"
   ]
  },
  {
   "cell_type": "code",
   "execution_count": 13,
   "id": "f2becd01",
   "metadata": {},
   "outputs": [],
   "source": [
    "s1 = emma.split('.')"
   ]
  },
  {
   "cell_type": "code",
   "execution_count": 14,
   "id": "a7cf5a00",
   "metadata": {},
   "outputs": [
    {
     "data": {
      "text/plain": [
       "'[Poems by William Blake 1789]\\n\\n \\nSONGS OF INNOCENCE AND OF EXPERIENCE\\nand THE BOOK of THEL\\n\\n\\n SONGS OF INNOCENCE\\n \\n \\n INTRODUCTION\\n \\n Piping down the valleys wild,\\n   Piping songs of pleasant glee,\\n On a cloud I saw a child,\\n   And he laughing said to me:\\n \\n \"Pipe a song about a Lamb!\"\\n   So I piped with merry cheer'"
      ]
     },
     "execution_count": 14,
     "metadata": {},
     "output_type": "execute_result"
    }
   ],
   "source": [
    "s1[0]"
   ]
  },
  {
   "cell_type": "code",
   "execution_count": 15,
   "id": "9c5cbb0e",
   "metadata": {},
   "outputs": [
    {
     "data": {
      "text/plain": [
       "['[',\n",
       " 'Poems',\n",
       " 'by',\n",
       " 'William',\n",
       " 'Blake',\n",
       " '1789',\n",
       " ']',\n",
       " 'SONGS',\n",
       " 'OF',\n",
       " 'INNOCENCE',\n",
       " 'AND',\n",
       " 'OF',\n",
       " 'EXPERIENCE',\n",
       " 'and',\n",
       " 'THE',\n",
       " 'BOOK',\n",
       " 'of',\n",
       " 'THEL',\n",
       " 'SONGS',\n",
       " 'OF',\n",
       " 'INNOCENCE',\n",
       " 'INTRODUCTION',\n",
       " 'Piping',\n",
       " 'down',\n",
       " 'the',\n",
       " 'valleys',\n",
       " 'wild',\n",
       " ',',\n",
       " 'Piping',\n",
       " 'songs',\n",
       " 'of',\n",
       " 'pleasant',\n",
       " 'glee',\n",
       " ',',\n",
       " 'On',\n",
       " 'a',\n",
       " 'cloud',\n",
       " 'I',\n",
       " 'saw',\n",
       " 'a',\n",
       " 'child',\n",
       " ',',\n",
       " 'And',\n",
       " 'he',\n",
       " 'laughing',\n",
       " 'said',\n",
       " 'to',\n",
       " 'me',\n",
       " ':',\n",
       " '``',\n",
       " 'Pipe',\n",
       " 'a',\n",
       " 'song',\n",
       " 'about',\n",
       " 'a',\n",
       " 'Lamb',\n",
       " '!',\n",
       " \"''\",\n",
       " 'So',\n",
       " 'I',\n",
       " 'piped',\n",
       " 'with',\n",
       " 'merry',\n",
       " 'cheer']"
      ]
     },
     "execution_count": 15,
     "metadata": {},
     "output_type": "execute_result"
    }
   ],
   "source": [
    "w1 = word_tokenize(s1[0])\n",
    "w1"
   ]
  },
  {
   "cell_type": "code",
   "execution_count": 16,
   "id": "6f1ac90b",
   "metadata": {},
   "outputs": [
    {
     "name": "stdout",
     "output_type": "stream",
     "text": [
      "['[Poems', 'by', 'William', 'Blake', '1789]\\n\\n', '\\nSONGS', 'OF', 'INNOCENCE', 'AND', 'OF', 'EXPERIENCE\\nand', 'THE', 'BOOK', 'of', 'THEL\\n\\n\\n', 'SONGS', 'OF', 'INNOCENCE\\n', '\\n', '\\n', 'INTRODUCTION\\n', '\\n', 'Piping', 'down', 'the', 'valleys', 'wild,\\n', '', '', 'Piping', 'songs', 'of', 'pleasant', 'glee,\\n', 'On', 'a', 'cloud', 'I', 'saw', 'a', 'child,\\n', '', '', 'And', 'he', 'laughing', 'said', 'to', 'me:\\n', '\\n', '\"Pipe', 'a', 'song', 'about', 'a', 'Lamb!\"\\n', '', '', 'So', 'I', 'piped', 'with', 'merry', 'cheer']\n"
     ]
    }
   ],
   "source": [
    "myToken(s1[0])"
   ]
  },
  {
   "cell_type": "code",
   "execution_count": 17,
   "id": "44aaf728",
   "metadata": {},
   "outputs": [
    {
     "name": "stdout",
     "output_type": "stream",
     "text": [
      "{'during', 'how', 'wasn', 're', 'below', 'himself', 'they', 'own', 'myself', 'so', 'these', \"weren't\", 'does', 'all', 'both', 'that', 'because', \"you'd\", 'what', 'too', 'of', 'up', \"didn't\", 'your', 'had', 'doesn', 'mustn', \"shouldn't\", 'into', 'if', \"wasn't\", 'which', 'over', 'while', \"wouldn't\", 'shouldn', 'him', 'hasn', \"hasn't\", 'themselves', 'very', 'll', 'did', 'from', 'not', \"couldn't\", 'between', 'this', 'once', 'were', 'here', 'in', 'needn', 'to', 'i', 'again', 'for', 'out', 'their', \"you'll\", 's', 'theirs', 'haven', 'by', 'd', \"needn't\", 'each', 'same', 'was', 'than', 'her', 'off', 'whom', \"won't\", 't', 'when', 'aren', 'hadn', 'isn', 'our', 'as', 'nor', 'is', 'should', 'been', 'doing', 'those', 'can', 'ain', 'the', 'm', \"it's\", 'other', 'ourselves', \"that'll\", 'didn', 'after', \"she's\", 'having', 'you', 'few', 've', 'weren', 'ma', 'won', 'herself', 'further', 'has', 'am', 'hers', \"mustn't\", 'we', 'ours', \"haven't\", 'yourselves', 'with', 'where', 'couldn', 'there', 'on', 'now', \"mightn't\", \"shan't\", 'o', 'under', 'have', 'its', 'itself', 'until', 'then', 'yourself', 'at', 'why', 'such', 'are', 'an', \"you've\", 'y', 'through', 'only', 'who', 'mightn', 'me', 'no', 'do', 'a', 'just', 'don', 'wouldn', 'some', 'above', 'she', 'my', 'about', 'he', 'it', \"doesn't\", 'or', 'yours', 'most', \"you're\", \"should've\", \"hadn't\", \"isn't\", 'any', 'down', \"aren't\", 'against', 'and', 'but', 'before', 'more', 'be', 'will', \"don't\", 'shan', 'his', 'them', 'being'}\n"
     ]
    }
   ],
   "source": [
    "import nltk\n",
    "from nltk.corpus import stopwords\n",
    "stop1 = set(stopwords.words('english'))\n",
    "print(stop1)"
   ]
  },
  {
   "cell_type": "code",
   "execution_count": 18,
   "id": "91a9ac34",
   "metadata": {},
   "outputs": [
    {
     "name": "stdout",
     "output_type": "stream",
     "text": [
      "{'deine', 'aber', 'ihnen', 'ander', 'oder', 'derselben', 'eine', 'muss', 'sollte', 'unser', 'jenem', 'seinem', 'derer', 'dich', 'dass', 'durch', 'ihre', 'so', 'viel', 'deiner', 'mich', 'werde', 'daß', 'sehr', 'denn', 'einig', 'während', 'als', 'indem', 'hin', 'alles', 'seiner', 'euer', 'also', 'jene', 'desselben', 'welche', 'einiges', 'einigem', 'anderes', 'einmal', 'dieses', 'war', 'diesen', 'unter', 'andern', 'anderen', 'deinem', 'hab', 'eures', 'allen', 'manche', 'keines', 'einem', 'ihn', 'könnte', 'derselbe', 'auch', 'noch', 'zu', 'sind', 'ihm', 'ihr', 'anderer', 'keinen', 'und', 'meiner', 'dessen', 'den', 'ist', 'in', 'ihrem', 'er', 'einige', 'andere', 'wird', 'habe', 'eines', 'für', 'werden', 'unserem', 'sie', 'wenn', 'eure', 'damit', 'nichts', 'seinen', 'bin', 'hier', 'jeder', 'dem', 'dann', 'was', 'kein', 'jede', 'bist', 'jener', 'keinem', 'dieselbe', 'unseres', 'einen', 'meines', 'solche', 'bei', 'dasselbe', 'vom', 'des', 'jedes', 'zur', 'meine', 'deinen', 'seines', 'ohne', 'mit', 'dieser', 'können', 'ob', 'denselben', 'im', 'waren', 'wollte', 'eurer', 'keiner', 'ich', 'jedem', 'manches', 'wir', 'die', 'deines', 'man', 'machen', 'nur', 'das', 'ihren', 'wirst', 'jeden', 'euren', 'soll', 'dazu', 'diese', 'einer', 'am', 'mancher', 'anderr', 'wieder', 'alle', 'allem', 'dein', 'dies', 'meinen', 'euch', 'haben', 'jetzt', 'welchen', 'ihrer', 'doch', 'ihres', 'dir', 'weg', 'aus', 'ein', 'eurem', 'hat', 'musste', 'dieselben', 'sein', 'welchem', 'jenes', 'wollen', 'kann', 'von', 'der', 'bis', 'weil', 'anderm', 'unseren', 'es', 'würde', 'an', 'sondern', 'unsere', 'wo', 'wie', 'würden', 'ins', 'solchen', 'über', 'welcher', 'zwischen', 'sonst', 'seine', 'zwar', 'hatten', 'auf', 'selbst', 'einiger', 'manchem', 'zum', 'welches', 'solches', 'aller', 'uns', 'demselben', 'anders', 'da', 'einigen', 'nicht', 'jenen', 'um', 'anderem', 'etwas', 'nun', 'gegen', 'diesem', 'will', 'weiter', 'nach', 'gewesen', 'meinem', 'sich', 'hatte', 'mein', 'manchen', 'du', 'dort', 'warst', 'keine', 'solchem', 'mir', 'vor', 'hinter', 'solcher'}\n"
     ]
    }
   ],
   "source": [
    "stop1 = set(stopwords.words('German'))\n",
    "print(stop1)"
   ]
  },
  {
   "cell_type": "code",
   "execution_count": 19,
   "id": "d8bcf2db",
   "metadata": {},
   "outputs": [
    {
     "name": "stdout",
     "output_type": "stream",
     "text": [
      "{'ai', 'aurais', 'fûtes', 'aies', 'aie', 'étant', 'sa', 'tu', 'furent', 'eux', 'c', 'ton', 'sera', 'seras', 'fusse', 'aura', 'la', 'avez', 'fussent', 'auraient', 'une', 'étés', 'pas', 'seraient', 'étais', 'votre', 'soient', 'avons', 'eusses', 'leur', 'un', 'serez', 'soit', 'ont', 'de', 'mais', 'eue', 'ce', 'avais', 'ne', 'notre', 'ces', 'ayons', 'fût', 'serai', 'sont', 'eusse', 'pour', 'j', 'auront', 'aurait', 's', 'serait', 'lui', 'soyez', 'qu', 'tes', 'eût', 'd', 'sur', 'aurai', 'suis', 'ta', 'fussions', 'auras', 'eurent', 'étants', 'en', 't', 'même', 'aux', 'des', 'as', 'ayants', 'dans', 'eûmes', 'serons', 'étante', 'm', 'mon', 'aient', 'eussions', 'soyons', 'ayantes', 'fusses', 'été', 'vos', 'sois', 'les', 'était', 'l', 'ma', 'serais', 'ses', 'avec', 'ayez', 'aurons', 'étée', 'est', 'qui', 'vous', 'étiez', 'eues', 'eu', 'te', 'que', 'aurez', 'on', 'avait', 'eut', 'ou', 'son', 'nous', 'fus', 'et', 'eus', 'ayant', 'ils', 'seront', 'es', 'serions', 'avaient', 'y', 'êtes', 'étaient', 'eûtes', 'fut', 'étées', 'eussiez', 'ait', 'me', 'sommes', 'par', 'au', 'aurions', 'il', 'eussent', 'elle', 'mes', 'moi', 'avions', 'à', 'ayante', 'auriez', 'étantes', 'aviez', 'n', 'nos', 'fussiez', 'du', 'seriez', 'le', 'toi', 'étions', 'je', 'se', 'fûmes'}\n"
     ]
    }
   ],
   "source": [
    "stop1 = set(stopwords.words('french'))\n",
    "print(stop1)"
   ]
  },
  {
   "cell_type": "code",
   "execution_count": 20,
   "id": "72df93e8",
   "metadata": {},
   "outputs": [
    {
     "data": {
      "text/plain": [
       "157"
      ]
     },
     "execution_count": 20,
     "metadata": {},
     "output_type": "execute_result"
    }
   ],
   "source": [
    "len(stop1)"
   ]
  },
  {
   "cell_type": "code",
   "execution_count": 21,
   "id": "7f0bc9eb",
   "metadata": {},
   "outputs": [
    {
     "name": "stdout",
     "output_type": "stream",
     "text": [
      "{'during', 'how', 'wasn', 're', 'below', 'himself', 'they', 'own', 'myself', 'so', 'these', \"weren't\", 'does', 'all', 'both', 'that', 'because', \"you'd\", 'what', 'too', 'of', 'up', \"didn't\", 'your', 'had', 'doesn', 'mustn', \"shouldn't\", 'into', 'if', \"wasn't\", 'which', 'over', 'while', \"wouldn't\", 'shouldn', 'him', 'hasn', \"hasn't\", 'themselves', 'very', 'll', 'did', 'from', 'not', \"couldn't\", 'between', 'this', 'once', 'were', 'here', 'in', 'needn', 'to', 'i', 'again', 'for', 'out', 'their', \"you'll\", 's', 'theirs', 'haven', 'by', 'd', \"needn't\", 'each', 'same', 'was', 'than', 'her', 'off', 'whom', \"won't\", 't', 'when', 'aren', 'hadn', 'isn', 'our', 'as', 'nor', 'is', 'should', 'been', 'doing', 'those', 'can', 'ain', 'the', 'm', \"it's\", 'other', 'ourselves', \"that'll\", 'didn', 'after', \"she's\", 'having', 'you', 'few', 've', 'weren', 'ma', 'won', 'herself', 'further', 'has', 'am', 'hers', \"mustn't\", 'we', 'ours', \"haven't\", 'yourselves', 'with', 'where', 'couldn', 'there', 'on', 'now', \"mightn't\", \"shan't\", 'o', 'under', 'have', 'its', 'itself', 'until', 'then', 'yourself', 'at', 'why', 'such', 'are', 'an', \"you've\", 'y', 'through', 'only', 'who', 'mightn', 'me', 'no', 'do', 'a', 'just', 'don', 'wouldn', 'some', 'above', 'she', 'my', 'about', 'he', 'it', \"doesn't\", 'or', 'yours', 'most', \"you're\", \"should've\", \"hadn't\", \"isn't\", 'any', 'down', \"aren't\", 'against', 'and', 'but', 'before', 'more', 'be', 'will', \"don't\", 'shan', 'his', 'them', 'being'}\n"
     ]
    },
    {
     "data": {
      "text/plain": [
       "179"
      ]
     },
     "execution_count": 21,
     "metadata": {},
     "output_type": "execute_result"
    }
   ],
   "source": [
    "stop1 = set(stopwords.words('english'))\n",
    "print(stop1)\n",
    "len(stop1)"
   ]
  },
  {
   "cell_type": "code",
   "execution_count": 45,
   "id": "25b74db5",
   "metadata": {},
   "outputs": [
    {
     "ename": "SyntaxError",
     "evalue": "invalid syntax (3168125227.py, line 1)",
     "output_type": "error",
     "traceback": [
      "\u001b[1;36m  File \u001b[1;32m\"C:\\Users\\Public\\Documents\\iSkysoft\\CreatorTemp\\ipykernel_14184\\3168125227.py\"\u001b[1;36m, line \u001b[1;32m1\u001b[0m\n\u001b[1;33m    +\u001b[0m\n\u001b[1;37m     ^\u001b[0m\n\u001b[1;31mSyntaxError\u001b[0m\u001b[1;31m:\u001b[0m invalid syntax\n"
     ]
    }
   ],
   "source": [
    "+\n"
   ]
  },
  {
   "cell_type": "code",
   "execution_count": 33,
   "id": "b6213d0b",
   "metadata": {},
   "outputs": [],
   "source": [
    "import nltk"
   ]
  },
  {
   "cell_type": "code",
   "execution_count": 40,
   "id": "836e677b",
   "metadata": {},
   "outputs": [],
   "source": [
    "from nltk.stem import PorterStemmer\n"
   ]
  },
  {
   "cell_type": "code",
   "execution_count": 43,
   "id": "b776f835",
   "metadata": {},
   "outputs": [],
   "source": [
    "from nltk.tokenize import sent_tokenize, word_tokenize"
   ]
  },
  {
   "cell_type": "code",
   "execution_count": 50,
   "id": "73c5dd19",
   "metadata": {},
   "outputs": [
    {
     "name": "stdout",
     "output_type": "stream",
     "text": [
      "game\n",
      "game\n",
      "game\n",
      "game\n"
     ]
    }
   ],
   "source": [
    "words = [\"game\", \"gaming\", \"gamed\", \"games\"]\n",
    "ps = PorterStemmer()\n",
    "\n",
    "for word in words:\n",
    "    print(ps.stem(word))"
   ]
  },
  {
   "cell_type": "code",
   "execution_count": 48,
   "id": "90465983",
   "metadata": {},
   "outputs": [],
   "source": [
    "words = [\"walking\", \"walked\"]\n",
    "ps = PorterStemmer()"
   ]
  },
  {
   "cell_type": "code",
   "execution_count": 53,
   "id": "f59692b3",
   "metadata": {},
   "outputs": [
    {
     "name": "stdout",
     "output_type": "stream",
     "text": [
      "['work', 'game', 'walk']\n"
     ]
    }
   ],
   "source": [
    "from nltk.stem.porter import PorterStemmer\n",
    "tokens = ['Working', 'gaming', 'walked']\n",
    "porter = PorterStemmer()\n",
    "stems = []\n",
    "for t in tokens:\n",
    "    stems.append(porter.stem(t))\n",
    "print(stems)"
   ]
  },
  {
   "cell_type": "code",
   "execution_count": 63,
   "id": "753aaa5a",
   "metadata": {},
   "outputs": [],
   "source": [
    "# Lemmanatization"
   ]
  },
  {
   "cell_type": "code",
   "execution_count": 64,
   "id": "6850bdb4",
   "metadata": {},
   "outputs": [],
   "source": [
    "from nltk.corpus import wordnet as wn"
   ]
  },
  {
   "cell_type": "code",
   "execution_count": 76,
   "id": "e80f6a27",
   "metadata": {},
   "outputs": [
    {
     "data": {
      "text/plain": [
       "[Synset('spoke.n.01'),\n",
       " Synset('rundle.n.01'),\n",
       " Synset('talk.v.02'),\n",
       " Synset('talk.v.01'),\n",
       " Synset('speak.v.03'),\n",
       " Synset('address.v.02'),\n",
       " Synset('speak.v.05')]"
      ]
     },
     "execution_count": 76,
     "metadata": {},
     "output_type": "execute_result"
    }
   ],
   "source": [
    "wn.synsets('spoke')"
   ]
  },
  {
   "cell_type": "code",
   "execution_count": 72,
   "id": "3ce0c663",
   "metadata": {},
   "outputs": [
    {
     "name": "stderr",
     "output_type": "stream",
     "text": [
      "[nltk_data] Downloading package wordnet to\n",
      "[nltk_data]     C:\\Users\\ADMIN\\AppData\\Roaming\\nltk_data...\n",
      "[nltk_data]   Package wordnet is already up-to-date!\n"
     ]
    },
    {
     "data": {
      "text/plain": [
       "True"
      ]
     },
     "execution_count": 72,
     "metadata": {},
     "output_type": "execute_result"
    }
   ],
   "source": [
    "nltk.download('wordnet')"
   ]
  },
  {
   "cell_type": "code",
   "execution_count": 75,
   "id": "6796cfa3",
   "metadata": {},
   "outputs": [
    {
     "name": "stderr",
     "output_type": "stream",
     "text": [
      "[nltk_data] Downloading package omw-1.4 to\n",
      "[nltk_data]     C:\\Users\\ADMIN\\AppData\\Roaming\\nltk_data...\n"
     ]
    },
    {
     "data": {
      "text/plain": [
       "True"
      ]
     },
     "execution_count": 75,
     "metadata": {},
     "output_type": "execute_result"
    }
   ],
   "source": [
    "nltk.download('omw-1.4')"
   ]
  },
  {
   "cell_type": "code",
   "execution_count": 78,
   "id": "2c9a2993",
   "metadata": {},
   "outputs": [
    {
     "data": {
      "text/plain": [
       "[Synset('spoke.n.01'),\n",
       " Synset('rundle.n.01'),\n",
       " Synset('talk.v.02'),\n",
       " Synset('talk.v.01'),\n",
       " Synset('speak.v.03'),\n",
       " Synset('address.v.02'),\n",
       " Synset('speak.v.05')]"
      ]
     },
     "execution_count": 78,
     "metadata": {},
     "output_type": "execute_result"
    }
   ],
   "source": [
    "wn.synsets('spoke')"
   ]
  },
  {
   "cell_type": "code",
   "execution_count": 79,
   "id": "5022d189",
   "metadata": {},
   "outputs": [
    {
     "data": {
      "text/plain": [
       "'exchange thoughts; talk with'"
      ]
     },
     "execution_count": 79,
     "metadata": {},
     "output_type": "execute_result"
    }
   ],
   "source": [
    "wn.synset('talk.v.01').definition()"
   ]
  },
  {
   "cell_type": "code",
   "execution_count": 82,
   "id": "4b8f8464",
   "metadata": {},
   "outputs": [
    {
     "data": {
      "text/plain": [
       "['We often talk business', 'Actions talk louder than words']"
      ]
     },
     "execution_count": 82,
     "metadata": {},
     "output_type": "execute_result"
    }
   ],
   "source": [
    "wn.synset('talk.v.01').examples()"
   ]
  },
  {
   "cell_type": "code",
   "execution_count": 83,
   "id": "b547b6bf",
   "metadata": {},
   "outputs": [
    {
     "name": "stdout",
     "output_type": "stream",
     "text": [
      "Synset('spoke.n.01') : <bound method Synset.lemma_names of Synset('spoke.n.01')>\n",
      "Synset('rundle.n.01') : <bound method Synset.lemma_names of Synset('rundle.n.01')>\n",
      "Synset('talk.v.02') : <bound method Synset.lemma_names of Synset('talk.v.02')>\n",
      "Synset('talk.v.01') : <bound method Synset.lemma_names of Synset('talk.v.01')>\n",
      "Synset('speak.v.03') : <bound method Synset.lemma_names of Synset('speak.v.03')>\n",
      "Synset('address.v.02') : <bound method Synset.lemma_names of Synset('address.v.02')>\n",
      "Synset('speak.v.05') : <bound method Synset.lemma_names of Synset('speak.v.05')>\n"
     ]
    }
   ],
   "source": [
    "for syn in wn.synsets('spoke'):\n",
    "  print(syn,':',syn.lemma_names)"
   ]
  },
  {
   "cell_type": "code",
   "execution_count": 84,
   "id": "3f9d08a0",
   "metadata": {},
   "outputs": [
    {
     "data": {
      "text/plain": [
       "[Synset('talk.v.02'),\n",
       " Synset('talk.v.01'),\n",
       " Synset('speak.v.03'),\n",
       " Synset('address.v.02'),\n",
       " Synset('speak.v.05'),\n",
       " Synset('spoken.a.01')]"
      ]
     },
     "execution_count": 84,
     "metadata": {},
     "output_type": "execute_result"
    }
   ],
   "source": [
    "wn.synsets('spoken')\n"
   ]
  },
  {
   "cell_type": "code",
   "execution_count": 85,
   "id": "219b68d8",
   "metadata": {},
   "outputs": [
    {
     "name": "stdout",
     "output_type": "stream",
     "text": [
      "Synset('talk.v.02') : ['talk', 'speak', 'utter', 'mouth', 'verbalize', 'verbalise']\n",
      "Synset('talk.v.01') : ['talk', 'speak']\n",
      "Synset('speak.v.03') : ['speak', 'talk']\n",
      "Synset('address.v.02') : ['address', 'speak']\n",
      "Synset('speak.v.05') : ['speak']\n",
      "Synset('spoken.a.01') : ['spoken']\n"
     ]
    }
   ],
   "source": [
    "for syn in wn.synsets('spoken'):\n",
    "  print(syn,':',syn.lemma_names())"
   ]
  },
  {
   "cell_type": "code",
   "execution_count": 86,
   "id": "16ac2608",
   "metadata": {},
   "outputs": [],
   "source": [
    "from nltk.stem import WordNetLemmatizer"
   ]
  },
  {
   "cell_type": "code",
   "execution_count": 87,
   "id": "6fe3d9c5",
   "metadata": {},
   "outputs": [],
   "source": [
    "wn1=WordNetLemmatizer()"
   ]
  },
  {
   "cell_type": "code",
   "execution_count": 88,
   "id": "7cbad7b1",
   "metadata": {},
   "outputs": [
    {
     "data": {
      "text/plain": [
       "'spoken'"
      ]
     },
     "execution_count": 88,
     "metadata": {},
     "output_type": "execute_result"
    }
   ],
   "source": [
    "wn1.lemmatize('spoken')"
   ]
  },
  {
   "cell_type": "code",
   "execution_count": 89,
   "id": "c6232551",
   "metadata": {},
   "outputs": [
    {
     "data": {
      "text/plain": [
       "'speak'"
      ]
     },
     "execution_count": 89,
     "metadata": {},
     "output_type": "execute_result"
    }
   ],
   "source": [
    "wn1.lemmatize('spoken','v')"
   ]
  },
  {
   "cell_type": "code",
   "execution_count": 90,
   "id": "e740853d",
   "metadata": {},
   "outputs": [
    {
     "data": {
      "text/plain": [
       "'bad'"
      ]
     },
     "execution_count": 90,
     "metadata": {},
     "output_type": "execute_result"
    }
   ],
   "source": [
    "wn1.lemmatize('worst','a')"
   ]
  },
  {
   "cell_type": "code",
   "execution_count": 91,
   "id": "ae1f1c09",
   "metadata": {},
   "outputs": [],
   "source": [
    "# Pairs of Speech (POS) Tagging"
   ]
  },
  {
   "cell_type": "code",
   "execution_count": 96,
   "id": "85e10699",
   "metadata": {},
   "outputs": [
    {
     "name": "stderr",
     "output_type": "stream",
     "text": [
      "[nltk_data] Downloading package averaged_perceptron_tagger to\n",
      "[nltk_data]     C:\\Users\\ADMIN\\AppData\\Roaming\\nltk_data...\n",
      "[nltk_data]   Package averaged_perceptron_tagger is already up-to-\n",
      "[nltk_data]       date!\n"
     ]
    },
    {
     "data": {
      "text/plain": [
       "True"
      ]
     },
     "execution_count": 96,
     "metadata": {},
     "output_type": "execute_result"
    }
   ],
   "source": [
    "import nltk\n",
    "from nltk.tokenize import word_tokenize\n",
    "from nltk import pos_tag\n",
    "nltk.download('averaged_perceptron_tagger')"
   ]
  },
  {
   "cell_type": "code",
   "execution_count": 97,
   "id": "23822c0c",
   "metadata": {},
   "outputs": [
    {
     "data": {
      "text/plain": [
       "[('Are', 'NNP'),\n",
       " ('you', 'PRP'),\n",
       " ('afraid', 'IN'),\n",
       " ('of', 'IN'),\n",
       " ('something', 'NN'),\n",
       " ('?', '.')]"
      ]
     },
     "execution_count": 97,
     "metadata": {},
     "output_type": "execute_result"
    }
   ],
   "source": [
    "# convert text into word_token with these tags\n",
    "\n",
    "def pos_tagg(text):\n",
    "  word_tokens = word_tokenize(text)\n",
    "  return pos_tag(word_tokens)\n",
    "pos_tagg('Are you afraid of something?')\n",
    "    \n",
    "    "
   ]
  },
  {
   "cell_type": "code",
   "execution_count": 98,
   "id": "425d951f",
   "metadata": {},
   "outputs": [
    {
     "name": "stderr",
     "output_type": "stream",
     "text": [
      "[nltk_data] Downloading package tagsets to\n",
      "[nltk_data]     C:\\Users\\ADMIN\\AppData\\Roaming\\nltk_data...\n"
     ]
    },
    {
     "name": "stdout",
     "output_type": "stream",
     "text": [
      "PRP: pronoun, personal\n",
      "    hers herself him himself hisself it itself me myself one oneself ours\n",
      "    ourselves ownself self she thee theirs them themselves they thou thy us\n"
     ]
    },
    {
     "name": "stderr",
     "output_type": "stream",
     "text": [
      "[nltk_data]   Unzipping help\\tagsets.zip.\n"
     ]
    }
   ],
   "source": [
    "nltk.download('tagsets')\n",
    "\n",
    "nltk.help.upenn_tagset('PRP')"
   ]
  },
  {
   "cell_type": "code",
   "execution_count": 100,
   "id": "2c76ce38",
   "metadata": {},
   "outputs": [
    {
     "name": "stdout",
     "output_type": "stream",
     "text": [
      "[['this', 'is', 'senteamce', 'one'], ['this', 'is', 'sentence', 'two'], ['this', 'is', 'sentence', 'three']]\n",
      "<Text: this is senteamce one this is sentence two...>\n",
      "0.08333333333333333\n",
      "1.0986122886681098\n",
      "0.0915510240556758\n"
     ]
    }
   ],
   "source": [
    "from nltk .text import TextCollection\n",
    "from nltk.tokenize import word_tokenize\n",
    "\n",
    "sents=['this is senteamce one','this is sentence two','this is sentence three']\n",
    "\n",
    "sents=[word_tokenize(sent) for sent in sents]\n",
    "print(sents)\n",
    "corpus=TextCollection(sents)\n",
    "print(corpus)\n",
    "\n",
    "tf=corpus.tf('one',corpus)\n",
    "print(tf)\n",
    "\n",
    "idf=corpus.idf('one')\n",
    "print(idf)\n",
    "\n",
    "tf_idf=corpus.tf_idf('one',corpus)\n",
    "print(tf_idf)"
   ]
  },
  {
   "cell_type": "code",
   "execution_count": null,
   "id": "ecd66fa1",
   "metadata": {},
   "outputs": [],
   "source": []
  }
 ],
 "metadata": {
  "kernelspec": {
   "display_name": "Python 3 (ipykernel)",
   "language": "python",
   "name": "python3"
  },
  "language_info": {
   "codemirror_mode": {
    "name": "ipython",
    "version": 3
   },
   "file_extension": ".py",
   "mimetype": "text/x-python",
   "name": "python",
   "nbconvert_exporter": "python",
   "pygments_lexer": "ipython3",
   "version": "3.9.13"
  }
 },
 "nbformat": 4,
 "nbformat_minor": 5
}
